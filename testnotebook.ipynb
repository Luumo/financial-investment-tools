{
 "cells": [
  {
   "cell_type": "code",
   "execution_count": 10,
   "metadata": {},
   "outputs": [],
   "source": [
    "from financelib.portfolio import Portfolio"
   ]
  },
  {
   "cell_type": "code",
   "execution_count": 11,
   "metadata": {
    "tags": []
   },
   "outputs": [],
   "source": [
    "\n",
    "portfolio_list = [\"AMZN\", # Amazon\n",
    "                  \"GOOG\", # Alphapet C\n",
    "                  \"ABB\", # ABB\n",
    "                  \"ARISE.ST\", # Arise\n",
    "                  \"ATRLJ-B.ST\", # Atrium Ljungberg\n",
    "                  \"AXFO.ST\" # Axfood\n",
    "                  ] \n",
    "\n",
    "my_portfolio = Portfolio(portfolio_list)\n"
   ]
  },
  {
   "cell_type": "code",
   "execution_count": 12,
   "metadata": {},
   "outputs": [
    {
     "output_type": "execute_result",
     "data": {
      "text/plain": "<pandas.io.formats.style.Styler at 0xb9be38>",
      "text/html": "<style  type=\"text/css\" >\n    #T_4fabd347_bd86_11ea_9eb3_f967d81071d2row0_col0 {\n            background-color:  #fde725;\n            color:  #000000;\n        }    #T_4fabd347_bd86_11ea_9eb3_f967d81071d2row0_col1 {\n            background-color:  #24aa83;\n            color:  #000000;\n        }    #T_4fabd347_bd86_11ea_9eb3_f967d81071d2row0_col2 {\n            background-color:  #38588c;\n            color:  #f1f1f1;\n        }    #T_4fabd347_bd86_11ea_9eb3_f967d81071d2row0_col3 {\n            background-color:  #450457;\n            color:  #f1f1f1;\n        }    #T_4fabd347_bd86_11ea_9eb3_f967d81071d2row0_col4 {\n            background-color:  #440154;\n            color:  #f1f1f1;\n        }    #T_4fabd347_bd86_11ea_9eb3_f967d81071d2row0_col5 {\n            background-color:  #460b5e;\n            color:  #f1f1f1;\n        }    #T_4fabd347_bd86_11ea_9eb3_f967d81071d2row1_col0 {\n            background-color:  #25ab82;\n            color:  #000000;\n        }    #T_4fabd347_bd86_11ea_9eb3_f967d81071d2row1_col1 {\n            background-color:  #fde725;\n            color:  #000000;\n        }    #T_4fabd347_bd86_11ea_9eb3_f967d81071d2row1_col2 {\n            background-color:  #277e8e;\n            color:  #000000;\n        }    #T_4fabd347_bd86_11ea_9eb3_f967d81071d2row1_col3 {\n            background-color:  #481a6c;\n            color:  #f1f1f1;\n        }    #T_4fabd347_bd86_11ea_9eb3_f967d81071d2row1_col4 {\n            background-color:  #472d7b;\n            color:  #f1f1f1;\n        }    #T_4fabd347_bd86_11ea_9eb3_f967d81071d2row1_col5 {\n            background-color:  #460a5d;\n            color:  #f1f1f1;\n        }    #T_4fabd347_bd86_11ea_9eb3_f967d81071d2row2_col0 {\n            background-color:  #34618d;\n            color:  #f1f1f1;\n        }    #T_4fabd347_bd86_11ea_9eb3_f967d81071d2row2_col1 {\n            background-color:  #26828e;\n            color:  #000000;\n        }    #T_4fabd347_bd86_11ea_9eb3_f967d81071d2row2_col2 {\n            background-color:  #fde725;\n            color:  #000000;\n        }    #T_4fabd347_bd86_11ea_9eb3_f967d81071d2row2_col3 {\n            background-color:  #453581;\n            color:  #f1f1f1;\n        }    #T_4fabd347_bd86_11ea_9eb3_f967d81071d2row2_col4 {\n            background-color:  #38588c;\n            color:  #f1f1f1;\n        }    #T_4fabd347_bd86_11ea_9eb3_f967d81071d2row2_col5 {\n            background-color:  #481467;\n            color:  #f1f1f1;\n        }    #T_4fabd347_bd86_11ea_9eb3_f967d81071d2row3_col0 {\n            background-color:  #440154;\n            color:  #f1f1f1;\n        }    #T_4fabd347_bd86_11ea_9eb3_f967d81071d2row3_col1 {\n            background-color:  #471164;\n            color:  #f1f1f1;\n        }    #T_4fabd347_bd86_11ea_9eb3_f967d81071d2row3_col2 {\n            background-color:  #482576;\n            color:  #f1f1f1;\n        }    #T_4fabd347_bd86_11ea_9eb3_f967d81071d2row3_col3 {\n            background-color:  #fde725;\n            color:  #000000;\n        }    #T_4fabd347_bd86_11ea_9eb3_f967d81071d2row3_col4 {\n            background-color:  #482878;\n            color:  #f1f1f1;\n        }    #T_4fabd347_bd86_11ea_9eb3_f967d81071d2row3_col5 {\n            background-color:  #440154;\n            color:  #f1f1f1;\n        }    #T_4fabd347_bd86_11ea_9eb3_f967d81071d2row4_col0 {\n            background-color:  #460a5d;\n            color:  #f1f1f1;\n        }    #T_4fabd347_bd86_11ea_9eb3_f967d81071d2row4_col1 {\n            background-color:  #472f7d;\n            color:  #f1f1f1;\n        }    #T_4fabd347_bd86_11ea_9eb3_f967d81071d2row4_col2 {\n            background-color:  #3a538b;\n            color:  #f1f1f1;\n        }    #T_4fabd347_bd86_11ea_9eb3_f967d81071d2row4_col3 {\n            background-color:  #46307e;\n            color:  #f1f1f1;\n        }    #T_4fabd347_bd86_11ea_9eb3_f967d81071d2row4_col4 {\n            background-color:  #fde725;\n            color:  #000000;\n        }    #T_4fabd347_bd86_11ea_9eb3_f967d81071d2row4_col5 {\n            background-color:  #481467;\n            color:  #f1f1f1;\n        }    #T_4fabd347_bd86_11ea_9eb3_f967d81071d2row5_col0 {\n            background-color:  #46085c;\n            color:  #f1f1f1;\n        }    #T_4fabd347_bd86_11ea_9eb3_f967d81071d2row5_col1 {\n            background-color:  #440154;\n            color:  #f1f1f1;\n        }    #T_4fabd347_bd86_11ea_9eb3_f967d81071d2row5_col2 {\n            background-color:  #440154;\n            color:  #f1f1f1;\n        }    #T_4fabd347_bd86_11ea_9eb3_f967d81071d2row5_col3 {\n            background-color:  #440154;\n            color:  #f1f1f1;\n        }    #T_4fabd347_bd86_11ea_9eb3_f967d81071d2row5_col4 {\n            background-color:  #46075a;\n            color:  #f1f1f1;\n        }    #T_4fabd347_bd86_11ea_9eb3_f967d81071d2row5_col5 {\n            background-color:  #fde725;\n            color:  #000000;\n        }</style><table id=\"T_4fabd347_bd86_11ea_9eb3_f967d81071d2\" ><thead>    <tr>        <th class=\"blank level0\" ></th>        <th class=\"col_heading level0 col0\" >AMZN</th>        <th class=\"col_heading level0 col1\" >GOOG</th>        <th class=\"col_heading level0 col2\" >ABB</th>        <th class=\"col_heading level0 col3\" >ARISE.ST</th>        <th class=\"col_heading level0 col4\" >ATRLJ-B.ST</th>        <th class=\"col_heading level0 col5\" >AXFO.ST</th>    </tr></thead><tbody>\n                <tr>\n                        <th id=\"T_4fabd347_bd86_11ea_9eb3_f967d81071d2level0_row0\" class=\"row_heading level0 row0\" >0</th>\n                        <td id=\"T_4fabd347_bd86_11ea_9eb3_f967d81071d2row0_col0\" class=\"data row0 col0\" >1.00</td>\n                        <td id=\"T_4fabd347_bd86_11ea_9eb3_f967d81071d2row0_col1\" class=\"data row0 col1\" >0.66</td>\n                        <td id=\"T_4fabd347_bd86_11ea_9eb3_f967d81071d2row0_col2\" class=\"data row0 col2\" >0.38</td>\n                        <td id=\"T_4fabd347_bd86_11ea_9eb3_f967d81071d2row0_col3\" class=\"data row0 col3\" >0.11</td>\n                        <td id=\"T_4fabd347_bd86_11ea_9eb3_f967d81071d2row0_col4\" class=\"data row0 col4\" >0.13</td>\n                        <td id=\"T_4fabd347_bd86_11ea_9eb3_f967d81071d2row0_col5\" class=\"data row0 col5\" >0.13</td>\n            </tr>\n            <tr>\n                        <th id=\"T_4fabd347_bd86_11ea_9eb3_f967d81071d2level0_row1\" class=\"row_heading level0 row1\" >1</th>\n                        <td id=\"T_4fabd347_bd86_11ea_9eb3_f967d81071d2row1_col0\" class=\"data row1 col0\" >0.66</td>\n                        <td id=\"T_4fabd347_bd86_11ea_9eb3_f967d81071d2row1_col1\" class=\"data row1 col1\" >1.00</td>\n                        <td id=\"T_4fabd347_bd86_11ea_9eb3_f967d81071d2row1_col2\" class=\"data row1 col2\" >0.51</td>\n                        <td id=\"T_4fabd347_bd86_11ea_9eb3_f967d81071d2row1_col3\" class=\"data row1 col3\" >0.16</td>\n                        <td id=\"T_4fabd347_bd86_11ea_9eb3_f967d81071d2row1_col4\" class=\"data row1 col4\" >0.24</td>\n                        <td id=\"T_4fabd347_bd86_11ea_9eb3_f967d81071d2row1_col5\" class=\"data row1 col5\" >0.12</td>\n            </tr>\n            <tr>\n                        <th id=\"T_4fabd347_bd86_11ea_9eb3_f967d81071d2level0_row2\" class=\"row_heading level0 row2\" >2</th>\n                        <td id=\"T_4fabd347_bd86_11ea_9eb3_f967d81071d2row2_col0\" class=\"data row2 col0\" >0.38</td>\n                        <td id=\"T_4fabd347_bd86_11ea_9eb3_f967d81071d2row2_col1\" class=\"data row2 col1\" >0.51</td>\n                        <td id=\"T_4fabd347_bd86_11ea_9eb3_f967d81071d2row2_col2\" class=\"data row2 col2\" >1.00</td>\n                        <td id=\"T_4fabd347_bd86_11ea_9eb3_f967d81071d2row2_col3\" class=\"data row2 col3\" >0.24</td>\n                        <td id=\"T_4fabd347_bd86_11ea_9eb3_f967d81071d2row2_col4\" class=\"data row2 col4\" >0.37</td>\n                        <td id=\"T_4fabd347_bd86_11ea_9eb3_f967d81071d2row2_col5\" class=\"data row2 col5\" >0.15</td>\n            </tr>\n            <tr>\n                        <th id=\"T_4fabd347_bd86_11ea_9eb3_f967d81071d2level0_row3\" class=\"row_heading level0 row3\" >3</th>\n                        <td id=\"T_4fabd347_bd86_11ea_9eb3_f967d81071d2row3_col0\" class=\"data row3 col0\" >0.11</td>\n                        <td id=\"T_4fabd347_bd86_11ea_9eb3_f967d81071d2row3_col1\" class=\"data row3 col1\" >0.16</td>\n                        <td id=\"T_4fabd347_bd86_11ea_9eb3_f967d81071d2row3_col2\" class=\"data row3 col2\" >0.24</td>\n                        <td id=\"T_4fabd347_bd86_11ea_9eb3_f967d81071d2row3_col3\" class=\"data row3 col3\" >1.00</td>\n                        <td id=\"T_4fabd347_bd86_11ea_9eb3_f967d81071d2row3_col4\" class=\"data row3 col4\" >0.23</td>\n                        <td id=\"T_4fabd347_bd86_11ea_9eb3_f967d81071d2row3_col5\" class=\"data row3 col5\" >0.10</td>\n            </tr>\n            <tr>\n                        <th id=\"T_4fabd347_bd86_11ea_9eb3_f967d81071d2level0_row4\" class=\"row_heading level0 row4\" >4</th>\n                        <td id=\"T_4fabd347_bd86_11ea_9eb3_f967d81071d2row4_col0\" class=\"data row4 col0\" >0.13</td>\n                        <td id=\"T_4fabd347_bd86_11ea_9eb3_f967d81071d2row4_col1\" class=\"data row4 col1\" >0.24</td>\n                        <td id=\"T_4fabd347_bd86_11ea_9eb3_f967d81071d2row4_col2\" class=\"data row4 col2\" >0.37</td>\n                        <td id=\"T_4fabd347_bd86_11ea_9eb3_f967d81071d2row4_col3\" class=\"data row4 col3\" >0.23</td>\n                        <td id=\"T_4fabd347_bd86_11ea_9eb3_f967d81071d2row4_col4\" class=\"data row4 col4\" >1.00</td>\n                        <td id=\"T_4fabd347_bd86_11ea_9eb3_f967d81071d2row4_col5\" class=\"data row4 col5\" >0.15</td>\n            </tr>\n            <tr>\n                        <th id=\"T_4fabd347_bd86_11ea_9eb3_f967d81071d2level0_row5\" class=\"row_heading level0 row5\" >5</th>\n                        <td id=\"T_4fabd347_bd86_11ea_9eb3_f967d81071d2row5_col0\" class=\"data row5 col0\" >0.13</td>\n                        <td id=\"T_4fabd347_bd86_11ea_9eb3_f967d81071d2row5_col1\" class=\"data row5 col1\" >0.12</td>\n                        <td id=\"T_4fabd347_bd86_11ea_9eb3_f967d81071d2row5_col2\" class=\"data row5 col2\" >0.15</td>\n                        <td id=\"T_4fabd347_bd86_11ea_9eb3_f967d81071d2row5_col3\" class=\"data row5 col3\" >0.10</td>\n                        <td id=\"T_4fabd347_bd86_11ea_9eb3_f967d81071d2row5_col4\" class=\"data row5 col4\" >0.15</td>\n                        <td id=\"T_4fabd347_bd86_11ea_9eb3_f967d81071d2row5_col5\" class=\"data row5 col5\" >1.00</td>\n            </tr>\n    </tbody></table>"
     },
     "metadata": {},
     "execution_count": 12
    }
   ],
   "source": [
    "# Calc correlations\n",
    "my_portfolio_correlation = my_portfolio.portfolio_correlation(\"5y\")\n",
    "# Pretty print\n",
    "my_portfolio_correlation.reset_index(drop=True).style.background_gradient(cmap='viridis').set_precision(2)"
   ]
  }
 ],
 "metadata": {
  "language_info": {
   "codemirror_mode": {
    "name": "ipython",
    "version": 3
   },
   "file_extension": ".py",
   "mimetype": "text/x-python",
   "name": "python",
   "nbconvert_exporter": "python",
   "pygments_lexer": "ipython3",
   "version": "3.8.3-final"
  },
  "orig_nbformat": 2,
  "kernelspec": {
   "name": "python38332bit2a886e74e5cc45afa12e6b25e46fc7a8",
   "display_name": "Python 3.8.3 32-bit"
  }
 },
 "nbformat": 4,
 "nbformat_minor": 2
}