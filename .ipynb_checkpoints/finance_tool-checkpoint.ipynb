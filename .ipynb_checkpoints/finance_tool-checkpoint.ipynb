{
 "cells": [
  {
   "cell_type": "markdown",
   "metadata": {},
   "source": [
    "# Investment Tool for Simulation & Risk Assessments\n",
    "\n",
    "![Image of graph](https://www.image-illustration.net/wp-content/uploads/2018/01/financial-analysis-minimal-wallpaper.jpg)\n",
    "\n",
    "### Purpose \n",
    "From deciding how much you would need to add to your portfolio to make it risk averse, to simulating new portfolios to see the optimal allocation to minimise risk and maximise returns. \n",
    "\n",
    "#### Features: \n",
    "1. Correlation table of portfolios\n",
    "2. Buy quantity based on risk assessment of financial asset into current portfolio\n",
    "3. Portfolio simulations for reallocation purposes to maximise returns given the amount of risk taken"
   ]
  },
  {
   "cell_type": "markdown",
   "metadata": {},
   "source": [
    "TODO\n",
    "\n",
    "* Fixa portfölj med ticker + antal\n",
    "* lägg ihop med gamla simuleringen\n",
    "* Generera random \"antal aktier\" för en viss aktie --> Simuleringen blir automatiserad istället för att vi ska klicka i antal aktier \n",
    "* Generera random ticker i en viss portfölj --> Simuleringen blir automatiserad istället för att vi ska klicka i vilka aktier vi vill köpa "
   ]
  },
  {
   "cell_type": "markdown",
   "metadata": {},
   "source": [
    "#### Luan på facebook \n",
    "\n",
    "portfolio_list = [\"AAPL\", \"FB\", \"GOOG\"]\n",
    "\n",
    "portfolio_list = {\"AAPL\": 2, \"FB\" : 3, \"GOOG\": 5}\n",
    "\n",
    "\n",
    "dict istället för lista\n",
    "\n",
    "med keys n values\n",
    "\n",
    "där keys = stock, values = antal av varje stock 🙂\n"
   ]
  },
  {
   "cell_type": "code",
   "execution_count": null,
   "metadata": {},
   "outputs": [],
   "source": []
  }
 ],
 "metadata": {
  "kernelspec": {
   "display_name": "Python 3",
   "language": "python",
   "name": "python3"
  },
  "language_info": {
   "codemirror_mode": {
    "name": "ipython",
    "version": 3
   },
   "file_extension": ".py",
   "mimetype": "text/x-python",
   "name": "python",
   "nbconvert_exporter": "python",
   "pygments_lexer": "ipython3",
   "version": "3.7.7"
  }
 },
 "nbformat": 4,
 "nbformat_minor": 4
}
