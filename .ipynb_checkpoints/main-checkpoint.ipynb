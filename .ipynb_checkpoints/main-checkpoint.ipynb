{
 "cells": [
  {
   "cell_type": "markdown",
   "metadata": {},
   "source": [
    "# Investment Tool for Simulation & Risk Assessments\n",
    "\n",
    "![Image of graph](https://www.image-illustration.net/wp-content/uploads/2018/01/financial-analysis-minimal-wallpaper.jpg)\n",
    "\n",
    "### Purpose \n",
    "From deciding how much you would need to add to your portfolio to make it risk averse, to simulating new portfolios to see the optimal allocation to minimise risk and maximise returns. \n",
    "\n",
    "#### Features: \n",
    "1. Correlation table of portfolios\n",
    "2. Buy quantity based on risk assessment of financial asset into current portfolio\n",
    "3. Portfolio simulations for reallocation purposes to maximise returns given the amount of risk taken"
   ]
  },
  {
   "cell_type": "markdown",
   "metadata": {},
   "source": [
    "### Import modules needed"
   ]
  },
  {
   "cell_type": "code",
   "execution_count": 2,
   "metadata": {},
   "outputs": [],
   "source": [
    "from financelib.portfolio import Portfolio\n",
    "import pandas as pd\n",
    "import numpy as np"
   ]
  },
  {
   "cell_type": "markdown",
   "metadata": {},
   "source": [
    "### Set up portfolio with your holdings"
   ]
  },
  {
   "cell_type": "code",
   "execution_count": 3,
   "metadata": {
    "tags": []
   },
   "outputs": [],
   "source": [
    "\n",
    "portfolio_list = [\"AMZN\", # Amazon\n",
    "                  \"GOOG\", # Alphapet C\n",
    "                  \"ABB\", # ABB\n",
    "                  \"ARISE.ST\", # Arise\n",
    "                  \"ATRLJ-B.ST\", # Atrium Ljungberg\n",
    "                  \"AXFO.ST\" # Axfood\n",
    "                  ] \n",
    "\n",
    "my_portfolio = Portfolio(portfolio_list)\n"
   ]
  },
  {
   "cell_type": "markdown",
   "metadata": {},
   "source": [
    "### Correlation table\n",
    "- To assess what how the returns are correlated\n",
    "- Number closer to zero = the better "
   ]
  },
  {
   "cell_type": "code",
   "execution_count": 4,
   "metadata": {},
   "outputs": [
    {
     "data": {
      "text/html": [
       "<style  type=\"text/css\" >\n",
       "    #T_16d77cba_cea2_11ea_b1e0_acde48001122row0_col0 {\n",
       "            background-color:  #fde725;\n",
       "            color:  #000000;\n",
       "        }    #T_16d77cba_cea2_11ea_b1e0_acde48001122row0_col1 {\n",
       "            background-color:  #2eb37c;\n",
       "            color:  #000000;\n",
       "        }    #T_16d77cba_cea2_11ea_b1e0_acde48001122row0_col2 {\n",
       "            background-color:  #375a8c;\n",
       "            color:  #f1f1f1;\n",
       "        }    #T_16d77cba_cea2_11ea_b1e0_acde48001122row0_col3 {\n",
       "            background-color:  #46075a;\n",
       "            color:  #f1f1f1;\n",
       "        }    #T_16d77cba_cea2_11ea_b1e0_acde48001122row0_col4 {\n",
       "            background-color:  #440154;\n",
       "            color:  #f1f1f1;\n",
       "        }    #T_16d77cba_cea2_11ea_b1e0_acde48001122row0_col5 {\n",
       "            background-color:  #460b5e;\n",
       "            color:  #f1f1f1;\n",
       "        }    #T_16d77cba_cea2_11ea_b1e0_acde48001122row1_col0 {\n",
       "            background-color:  #2eb37c;\n",
       "            color:  #000000;\n",
       "        }    #T_16d77cba_cea2_11ea_b1e0_acde48001122row1_col1 {\n",
       "            background-color:  #fde725;\n",
       "            color:  #000000;\n",
       "        }    #T_16d77cba_cea2_11ea_b1e0_acde48001122row1_col2 {\n",
       "            background-color:  #25838e;\n",
       "            color:  #000000;\n",
       "        }    #T_16d77cba_cea2_11ea_b1e0_acde48001122row1_col3 {\n",
       "            background-color:  #481b6d;\n",
       "            color:  #f1f1f1;\n",
       "        }    #T_16d77cba_cea2_11ea_b1e0_acde48001122row1_col4 {\n",
       "            background-color:  #472f7d;\n",
       "            color:  #f1f1f1;\n",
       "        }    #T_16d77cba_cea2_11ea_b1e0_acde48001122row1_col5 {\n",
       "            background-color:  #46085c;\n",
       "            color:  #f1f1f1;\n",
       "        }    #T_16d77cba_cea2_11ea_b1e0_acde48001122row2_col0 {\n",
       "            background-color:  #34618d;\n",
       "            color:  #f1f1f1;\n",
       "        }    #T_16d77cba_cea2_11ea_b1e0_acde48001122row2_col1 {\n",
       "            background-color:  #24878e;\n",
       "            color:  #000000;\n",
       "        }    #T_16d77cba_cea2_11ea_b1e0_acde48001122row2_col2 {\n",
       "            background-color:  #fde725;\n",
       "            color:  #000000;\n",
       "        }    #T_16d77cba_cea2_11ea_b1e0_acde48001122row2_col3 {\n",
       "            background-color:  #453581;\n",
       "            color:  #f1f1f1;\n",
       "        }    #T_16d77cba_cea2_11ea_b1e0_acde48001122row2_col4 {\n",
       "            background-color:  #38598c;\n",
       "            color:  #f1f1f1;\n",
       "        }    #T_16d77cba_cea2_11ea_b1e0_acde48001122row2_col5 {\n",
       "            background-color:  #471365;\n",
       "            color:  #f1f1f1;\n",
       "        }    #T_16d77cba_cea2_11ea_b1e0_acde48001122row3_col0 {\n",
       "            background-color:  #440154;\n",
       "            color:  #f1f1f1;\n",
       "        }    #T_16d77cba_cea2_11ea_b1e0_acde48001122row3_col1 {\n",
       "            background-color:  #481467;\n",
       "            color:  #f1f1f1;\n",
       "        }    #T_16d77cba_cea2_11ea_b1e0_acde48001122row3_col2 {\n",
       "            background-color:  #482677;\n",
       "            color:  #f1f1f1;\n",
       "        }    #T_16d77cba_cea2_11ea_b1e0_acde48001122row3_col3 {\n",
       "            background-color:  #fde725;\n",
       "            color:  #000000;\n",
       "        }    #T_16d77cba_cea2_11ea_b1e0_acde48001122row3_col4 {\n",
       "            background-color:  #482979;\n",
       "            color:  #f1f1f1;\n",
       "        }    #T_16d77cba_cea2_11ea_b1e0_acde48001122row3_col5 {\n",
       "            background-color:  #440154;\n",
       "            color:  #f1f1f1;\n",
       "        }    #T_16d77cba_cea2_11ea_b1e0_acde48001122row4_col0 {\n",
       "            background-color:  #450457;\n",
       "            color:  #f1f1f1;\n",
       "        }    #T_16d77cba_cea2_11ea_b1e0_acde48001122row4_col1 {\n",
       "            background-color:  #46307e;\n",
       "            color:  #f1f1f1;\n",
       "        }    #T_16d77cba_cea2_11ea_b1e0_acde48001122row4_col2 {\n",
       "            background-color:  #3a548c;\n",
       "            color:  #f1f1f1;\n",
       "        }    #T_16d77cba_cea2_11ea_b1e0_acde48001122row4_col3 {\n",
       "            background-color:  #46307e;\n",
       "            color:  #f1f1f1;\n",
       "        }    #T_16d77cba_cea2_11ea_b1e0_acde48001122row4_col4 {\n",
       "            background-color:  #fde725;\n",
       "            color:  #000000;\n",
       "        }    #T_16d77cba_cea2_11ea_b1e0_acde48001122row4_col5 {\n",
       "            background-color:  #471063;\n",
       "            color:  #f1f1f1;\n",
       "        }    #T_16d77cba_cea2_11ea_b1e0_acde48001122row5_col0 {\n",
       "            background-color:  #450559;\n",
       "            color:  #f1f1f1;\n",
       "        }    #T_16d77cba_cea2_11ea_b1e0_acde48001122row5_col1 {\n",
       "            background-color:  #440154;\n",
       "            color:  #f1f1f1;\n",
       "        }    #T_16d77cba_cea2_11ea_b1e0_acde48001122row5_col2 {\n",
       "            background-color:  #440154;\n",
       "            color:  #f1f1f1;\n",
       "        }    #T_16d77cba_cea2_11ea_b1e0_acde48001122row5_col3 {\n",
       "            background-color:  #440154;\n",
       "            color:  #f1f1f1;\n",
       "        }    #T_16d77cba_cea2_11ea_b1e0_acde48001122row5_col4 {\n",
       "            background-color:  #46075a;\n",
       "            color:  #f1f1f1;\n",
       "        }    #T_16d77cba_cea2_11ea_b1e0_acde48001122row5_col5 {\n",
       "            background-color:  #fde725;\n",
       "            color:  #000000;\n",
       "        }</style><table id=\"T_16d77cba_cea2_11ea_b1e0_acde48001122\" ><thead>    <tr>        <th class=\"blank level0\" ></th>        <th class=\"col_heading level0 col0\" >AMZN</th>        <th class=\"col_heading level0 col1\" >GOOG</th>        <th class=\"col_heading level0 col2\" >ABB</th>        <th class=\"col_heading level0 col3\" >ARISE.ST</th>        <th class=\"col_heading level0 col4\" >ATRLJ-B.ST</th>        <th class=\"col_heading level0 col5\" >AXFO.ST</th>    </tr></thead><tbody>\n",
       "                <tr>\n",
       "                        <th id=\"T_16d77cba_cea2_11ea_b1e0_acde48001122level0_row0\" class=\"row_heading level0 row0\" >0</th>\n",
       "                        <td id=\"T_16d77cba_cea2_11ea_b1e0_acde48001122row0_col0\" class=\"data row0 col0\" >1.00</td>\n",
       "                        <td id=\"T_16d77cba_cea2_11ea_b1e0_acde48001122row0_col1\" class=\"data row0 col1\" >0.69</td>\n",
       "                        <td id=\"T_16d77cba_cea2_11ea_b1e0_acde48001122row0_col2\" class=\"data row0 col2\" >0.39</td>\n",
       "                        <td id=\"T_16d77cba_cea2_11ea_b1e0_acde48001122row0_col3\" class=\"data row0 col3\" >0.12</td>\n",
       "                        <td id=\"T_16d77cba_cea2_11ea_b1e0_acde48001122row0_col4\" class=\"data row0 col4\" >0.13</td>\n",
       "                        <td id=\"T_16d77cba_cea2_11ea_b1e0_acde48001122row0_col5\" class=\"data row0 col5\" >0.13</td>\n",
       "            </tr>\n",
       "            <tr>\n",
       "                        <th id=\"T_16d77cba_cea2_11ea_b1e0_acde48001122level0_row1\" class=\"row_heading level0 row1\" >1</th>\n",
       "                        <td id=\"T_16d77cba_cea2_11ea_b1e0_acde48001122row1_col0\" class=\"data row1 col0\" >0.69</td>\n",
       "                        <td id=\"T_16d77cba_cea2_11ea_b1e0_acde48001122row1_col1\" class=\"data row1 col1\" >1.00</td>\n",
       "                        <td id=\"T_16d77cba_cea2_11ea_b1e0_acde48001122row1_col2\" class=\"data row1 col2\" >0.53</td>\n",
       "                        <td id=\"T_16d77cba_cea2_11ea_b1e0_acde48001122row1_col3\" class=\"data row1 col3\" >0.17</td>\n",
       "                        <td id=\"T_16d77cba_cea2_11ea_b1e0_acde48001122row1_col4\" class=\"data row1 col4\" >0.25</td>\n",
       "                        <td id=\"T_16d77cba_cea2_11ea_b1e0_acde48001122row1_col5\" class=\"data row1 col5\" >0.12</td>\n",
       "            </tr>\n",
       "            <tr>\n",
       "                        <th id=\"T_16d77cba_cea2_11ea_b1e0_acde48001122level0_row2\" class=\"row_heading level0 row2\" >2</th>\n",
       "                        <td id=\"T_16d77cba_cea2_11ea_b1e0_acde48001122row2_col0\" class=\"data row2 col0\" >0.39</td>\n",
       "                        <td id=\"T_16d77cba_cea2_11ea_b1e0_acde48001122row2_col1\" class=\"data row2 col1\" >0.53</td>\n",
       "                        <td id=\"T_16d77cba_cea2_11ea_b1e0_acde48001122row2_col2\" class=\"data row2 col2\" >1.00</td>\n",
       "                        <td id=\"T_16d77cba_cea2_11ea_b1e0_acde48001122row2_col3\" class=\"data row2 col3\" >0.24</td>\n",
       "                        <td id=\"T_16d77cba_cea2_11ea_b1e0_acde48001122row2_col4\" class=\"data row2 col4\" >0.37</td>\n",
       "                        <td id=\"T_16d77cba_cea2_11ea_b1e0_acde48001122row2_col5\" class=\"data row2 col5\" >0.15</td>\n",
       "            </tr>\n",
       "            <tr>\n",
       "                        <th id=\"T_16d77cba_cea2_11ea_b1e0_acde48001122level0_row3\" class=\"row_heading level0 row3\" >3</th>\n",
       "                        <td id=\"T_16d77cba_cea2_11ea_b1e0_acde48001122row3_col0\" class=\"data row3 col0\" >0.12</td>\n",
       "                        <td id=\"T_16d77cba_cea2_11ea_b1e0_acde48001122row3_col1\" class=\"data row3 col1\" >0.17</td>\n",
       "                        <td id=\"T_16d77cba_cea2_11ea_b1e0_acde48001122row3_col2\" class=\"data row3 col2\" >0.24</td>\n",
       "                        <td id=\"T_16d77cba_cea2_11ea_b1e0_acde48001122row3_col3\" class=\"data row3 col3\" >1.00</td>\n",
       "                        <td id=\"T_16d77cba_cea2_11ea_b1e0_acde48001122row3_col4\" class=\"data row3 col4\" >0.23</td>\n",
       "                        <td id=\"T_16d77cba_cea2_11ea_b1e0_acde48001122row3_col5\" class=\"data row3 col5\" >0.11</td>\n",
       "            </tr>\n",
       "            <tr>\n",
       "                        <th id=\"T_16d77cba_cea2_11ea_b1e0_acde48001122level0_row4\" class=\"row_heading level0 row4\" >4</th>\n",
       "                        <td id=\"T_16d77cba_cea2_11ea_b1e0_acde48001122row4_col0\" class=\"data row4 col0\" >0.13</td>\n",
       "                        <td id=\"T_16d77cba_cea2_11ea_b1e0_acde48001122row4_col1\" class=\"data row4 col1\" >0.25</td>\n",
       "                        <td id=\"T_16d77cba_cea2_11ea_b1e0_acde48001122row4_col2\" class=\"data row4 col2\" >0.37</td>\n",
       "                        <td id=\"T_16d77cba_cea2_11ea_b1e0_acde48001122row4_col3\" class=\"data row4 col3\" >0.23</td>\n",
       "                        <td id=\"T_16d77cba_cea2_11ea_b1e0_acde48001122row4_col4\" class=\"data row4 col4\" >1.00</td>\n",
       "                        <td id=\"T_16d77cba_cea2_11ea_b1e0_acde48001122row4_col5\" class=\"data row4 col5\" >0.14</td>\n",
       "            </tr>\n",
       "            <tr>\n",
       "                        <th id=\"T_16d77cba_cea2_11ea_b1e0_acde48001122level0_row5\" class=\"row_heading level0 row5\" >5</th>\n",
       "                        <td id=\"T_16d77cba_cea2_11ea_b1e0_acde48001122row5_col0\" class=\"data row5 col0\" >0.13</td>\n",
       "                        <td id=\"T_16d77cba_cea2_11ea_b1e0_acde48001122row5_col1\" class=\"data row5 col1\" >0.12</td>\n",
       "                        <td id=\"T_16d77cba_cea2_11ea_b1e0_acde48001122row5_col2\" class=\"data row5 col2\" >0.15</td>\n",
       "                        <td id=\"T_16d77cba_cea2_11ea_b1e0_acde48001122row5_col3\" class=\"data row5 col3\" >0.11</td>\n",
       "                        <td id=\"T_16d77cba_cea2_11ea_b1e0_acde48001122row5_col4\" class=\"data row5 col4\" >0.14</td>\n",
       "                        <td id=\"T_16d77cba_cea2_11ea_b1e0_acde48001122row5_col5\" class=\"data row5 col5\" >1.00</td>\n",
       "            </tr>\n",
       "    </tbody></table>"
      ],
      "text/plain": [
       "<pandas.io.formats.style.Styler at 0x7ff9ad427290>"
      ]
     },
     "execution_count": 4,
     "metadata": {},
     "output_type": "execute_result"
    }
   ],
   "source": [
    "# Calc correlations\n",
    "my_portfolio_correlation = my_portfolio.portfolio_correlation(\"5y\")\n",
    "# Pretty print\n",
    "my_portfolio_correlation.reset_index(drop=True).style.background_gradient(cmap='viridis').set_precision(2)"
   ]
  },
  {
   "cell_type": "markdown",
   "metadata": {},
   "source": [
    "# Dags att gå lös\n",
    "\n",
    "Analysis walk through = https://www.youtube.com/watch?v=kBwOy-6CtAQ\n",
    "\n",
    "Monte carlo = https://www.youtube.com/watch?v=_T0l015ecK4"
   ]
  },
  {
   "cell_type": "code",
   "execution_count": 5,
   "metadata": {},
   "outputs": [],
   "source": [
    "%matplotlib inline\n",
    "import os\n",
    "import random\n",
    "import pandas_datareader.data as web\n",
    "import datetime\n",
    "import numpy as np\n",
    "from ipywidgets import interact, fixed, IntSlider\n",
    "import matplotlib.pyplot as plt\n",
    "from numpy.linalg import cholesky\n",
    "import seaborn as sns\n",
    "import yfinance as yf"
   ]
  },
  {
   "cell_type": "code",
   "execution_count": 6,
   "metadata": {},
   "outputs": [],
   "source": [
    "all_data_start, all_data_end = \"2016-01-01\", \"2019-10-01\"\n",
    "default_start, default_end = \"2017-01-01\", \"2018-01-01\""
   ]
  },
  {
   "cell_type": "code",
   "execution_count": 7,
   "metadata": {},
   "outputs": [
    {
     "data": {
      "text/html": [
       "<div>\n",
       "<style scoped>\n",
       "    .dataframe tbody tr th:only-of-type {\n",
       "        vertical-align: middle;\n",
       "    }\n",
       "\n",
       "    .dataframe tbody tr th {\n",
       "        vertical-align: top;\n",
       "    }\n",
       "\n",
       "    .dataframe thead th {\n",
       "        text-align: right;\n",
       "    }\n",
       "</style>\n",
       "<table border=\"1\" class=\"dataframe\">\n",
       "  <thead>\n",
       "    <tr style=\"text-align: right;\">\n",
       "      <th></th>\n",
       "      <th>Open</th>\n",
       "      <th>High</th>\n",
       "      <th>Low</th>\n",
       "      <th>Close</th>\n",
       "      <th>Volume</th>\n",
       "      <th>Dividends</th>\n",
       "      <th>Stock Splits</th>\n",
       "    </tr>\n",
       "    <tr>\n",
       "      <th>Date</th>\n",
       "      <th></th>\n",
       "      <th></th>\n",
       "      <th></th>\n",
       "      <th></th>\n",
       "      <th></th>\n",
       "      <th></th>\n",
       "      <th></th>\n",
       "    </tr>\n",
       "  </thead>\n",
       "  <tbody>\n",
       "    <tr>\n",
       "      <th>2014-12-31</th>\n",
       "      <td>103.14</td>\n",
       "      <td>103.42</td>\n",
       "      <td>100.75</td>\n",
       "      <td>100.91</td>\n",
       "      <td>41403400</td>\n",
       "      <td>0.0</td>\n",
       "      <td>0</td>\n",
       "    </tr>\n",
       "    <tr>\n",
       "      <th>2015-01-02</th>\n",
       "      <td>101.83</td>\n",
       "      <td>101.87</td>\n",
       "      <td>98.14</td>\n",
       "      <td>99.95</td>\n",
       "      <td>53204600</td>\n",
       "      <td>0.0</td>\n",
       "      <td>0</td>\n",
       "    </tr>\n",
       "    <tr>\n",
       "      <th>2015-01-05</th>\n",
       "      <td>99.00</td>\n",
       "      <td>99.32</td>\n",
       "      <td>96.36</td>\n",
       "      <td>97.13</td>\n",
       "      <td>64285500</td>\n",
       "      <td>0.0</td>\n",
       "      <td>0</td>\n",
       "    </tr>\n",
       "  </tbody>\n",
       "</table>\n",
       "</div>"
      ],
      "text/plain": [
       "              Open    High     Low   Close    Volume  Dividends  Stock Splits\n",
       "Date                                                                         \n",
       "2014-12-31  103.14  103.42  100.75  100.91  41403400        0.0             0\n",
       "2015-01-02  101.83  101.87   98.14   99.95  53204600        0.0             0\n",
       "2015-01-05   99.00   99.32   96.36   97.13  64285500        0.0             0"
      ]
     },
     "execution_count": 7,
     "metadata": {},
     "output_type": "execute_result"
    }
   ],
   "source": [
    "# Test stock 1\n",
    "aapl = yf.Ticker(\"AAPL\")\n",
    "aapl = aapl.history(start=\"2015-01-01\", end=\"2016-01-01\")\n",
    "aapl.head(3)"
   ]
  },
  {
   "cell_type": "code",
   "execution_count": 8,
   "metadata": {},
   "outputs": [
    {
     "data": {
      "text/plain": [
       "<matplotlib.axes._subplots.AxesSubplot at 0x7ff9b0b47a50>"
      ]
     },
     "execution_count": 8,
     "metadata": {},
     "output_type": "execute_result"
    },
    {
     "data": {
      "image/png": "[encoded data removed]",
      "text/plain": [
       "<Figure size 432x288 with 1 Axes>"
      ]
     },
     "metadata": {
      "needs_background": "light"
     },
     "output_type": "display_data"
    }
   ],
   "source": [
    "aapl.Close.plot()"
   ]
  },
  {
   "cell_type": "code",
   "execution_count": 9,
   "metadata": {},
   "outputs": [],
   "source": [
    "class Portfolio:\n",
    "    def __init__(self, tickers: list):\n",
    "        self.tickers = tickers\n",
    "\n",
    "        #create list of holdings based on ticker-list\n",
    "        self.holdings = list(yf.Ticker(ticker) for ticker in self.tickers)\n",
    "    \n",
    "    def get_holdings(self):\n",
    "        '''\n",
    "        :return: list of holdings\n",
    "        '''\n",
    "        return self.holdings\n",
    "\n",
    "    def returns(self):\n",
    "        '''\n",
    "        Creates dataframe of returns within given period\n",
    "\n",
    "        :param period: period of returns, i.e. \"1d\", \"1y\"\n",
    "        :return: dataframe of portfolio returns\n",
    "        '''\n",
    "        returnsDF = [None]\n",
    "        for stock in self.holdings:\n",
    "            returns = pd.DataFrame(stock.history(start=default_start, end=default_end), columns=[\"Close\"])\n",
    "            returnsDF.append(returns)\n",
    "\n",
    "        # slå samman tickerdatan (y-axeln, därav axis=1)\n",
    "        portfolio_returns = pd.concat(returnsDF, axis=1)\n",
    "        # byter namn på kolumnerna\n",
    "        portfolio_returns.columns = self.tickers\n",
    "        return portfolio_returns"
   ]
  },
  {
   "cell_type": "code",
   "execution_count": 10,
   "metadata": {},
   "outputs": [
    {
     "name": "stdout",
     "output_type": "stream",
     "text": [
      "              AAPL      FB     GOOG\n",
      "Date                               \n",
      "2017-01-03  110.39  116.86   786.14\n",
      "2017-01-04  110.27  118.69   786.90\n",
      "2017-01-05  110.83  120.67   794.02\n",
      "2017-01-06  112.07  123.41   806.15\n",
      "2017-01-09  113.09  124.90   806.65\n",
      "...            ...     ...      ...\n",
      "2017-12-22  169.01  177.20  1060.12\n",
      "2017-12-26  164.72  175.99  1056.74\n",
      "2017-12-27  164.75  177.62  1049.37\n",
      "2017-12-28  165.21  177.92  1048.14\n",
      "2017-12-29  163.43  176.46  1046.40\n",
      "\n",
      "[251 rows x 3 columns]\n"
     ]
    }
   ],
   "source": [
    "portfolio_list = [\"AAPL\", \"FB\", \"GOOG\"]\n",
    "\n",
    "test_portfolio = Portfolio(portfolio_list)\n",
    "print(test_portfolio.returns())"
   ]
  },
  {
   "cell_type": "code",
   "execution_count": 11,
   "metadata": {},
   "outputs": [
    {
     "data": {
      "text/plain": [
       "<matplotlib.axes._subplots.AxesSubplot at 0x7ff9b0e36d50>"
      ]
     },
     "execution_count": 11,
     "metadata": {},
     "output_type": "execute_result"
    },
    {
     "data": {
      "image/png": "[encoded data removed]",
      "text/plain": [
       "<Figure size 432x288 with 1 Axes>"
      ]
     },
     "metadata": {
      "needs_background": "light"
     },
     "output_type": "display_data"
    }
   ],
   "source": [
    "test_portfolio.returns().plot()"
   ]
  },
  {
   "cell_type": "code",
   "execution_count": 14,
   "metadata": {},
   "outputs": [
    {
     "data": {
      "text/plain": [
       "<matplotlib.axes._subplots.AxesSubplot at 0x7ff9b1167610>"
      ]
     },
     "execution_count": 14,
     "metadata": {},
     "output_type": "execute_result"
    },
    {
     "data": {
      "image/png": "[encoded data removed]",
      "text/plain": [
       "<Figure size 432x288 with 1 Axes>"
      ]
     },
     "metadata": {
      "needs_background": "light"
     },
     "output_type": "display_data"
    }
   ],
   "source": [
    "# Logged returns \n",
    "log_returns = test_portfolio.returns()/test_portfolio.returns().iloc[0]\n",
    "log_returns.plot()"
   ]
  },
  {
   "cell_type": "code",
   "execution_count": 15,
   "metadata": {
    "scrolled": true
   },
   "outputs": [
    {
     "ename": "NameError",
     "evalue": "name 'tickers' is not defined",
     "output_type": "error",
     "traceback": [
      "\u001b[0;31m---------------------------------------------------------------------\u001b[0m",
      "\u001b[0;31mNameError\u001b[0m                           Traceback (most recent call last)",
      "\u001b[0;32m<ipython-input-15-78539af47bb0>\u001b[0m in \u001b[0;36m<module>\u001b[0;34m\u001b[0m\n\u001b[0;32m----> 1\u001b[0;31m \u001b[0mlog_returns\u001b[0m\u001b[0;34m[\u001b[0m\u001b[0;34m\"PORTFOLIO\"\u001b[0m\u001b[0;34m]\u001b[0m \u001b[0;34m=\u001b[0m \u001b[0mlog_returns\u001b[0m\u001b[0;34m.\u001b[0m\u001b[0miloc\u001b[0m\u001b[0;34m[\u001b[0m\u001b[0;34m:\u001b[0m\u001b[0;34m,\u001b[0m\u001b[0;36m0\u001b[0m\u001b[0;34m:\u001b[0m\u001b[0mlen\u001b[0m\u001b[0;34m(\u001b[0m\u001b[0mtickers\u001b[0m\u001b[0;34m)\u001b[0m\u001b[0;34m]\u001b[0m\u001b[0;34m.\u001b[0m\u001b[0msum\u001b[0m\u001b[0;34m(\u001b[0m\u001b[0maxis\u001b[0m\u001b[0;34m=\u001b[0m\u001b[0;36m1\u001b[0m\u001b[0;34m)\u001b[0m \u001b[0;34m/\u001b[0m \u001b[0mlen\u001b[0m\u001b[0;34m(\u001b[0m\u001b[0mtickers\u001b[0m\u001b[0;34m)\u001b[0m\u001b[0;34m\u001b[0m\u001b[0;34m\u001b[0m\u001b[0m\n\u001b[0m",
      "\u001b[0;31mNameError\u001b[0m: name 'tickers' is not defined"
     ]
    }
   ],
   "source": [
    "log_returns[\"PORTFOLIO\"] = log_returns.iloc[:,0:len(tickers)].sum(axis=1) / len(tickers)"
   ]
  },
  {
   "cell_type": "code",
   "execution_count": null,
   "metadata": {},
   "outputs": [],
   "source": [
    "log_returns.plot()"
   ]
  },
  {
   "cell_type": "code",
   "execution_count": null,
   "metadata": {},
   "outputs": [],
   "source": [
    "daily_pct_change = np.log(log_returns.pct_change() +1 )\n",
    "vols = daily_pct_change.std() * np.sqrt(252)\n",
    "vols"
   ]
  },
  {
   "cell_type": "code",
   "execution_count": 1,
   "metadata": {},
   "outputs": [
    {
     "ename": "SyntaxError",
     "evalue": "invalid syntax (<ipython-input-1-56d9ea42e7d6>, line 6)",
     "output_type": "error",
     "traceback": [
      "\u001b[0;36m  File \u001b[0;32m\"<ipython-input-1-56d9ea42e7d6>\"\u001b[0;36m, line \u001b[0;32m6\u001b[0m\n\u001b[0;31m    unit_pos = [p / p[0] for p in prices]\u001b[0m\n\u001b[0m           ^\u001b[0m\n\u001b[0;31mSyntaxError\u001b[0m\u001b[0;31m:\u001b[0m invalid syntax\n"
     ]
    }
   ],
   "source": [
    "# NEEDS TO BE FIXED \n",
    "\n",
    "def diversicheck(symbols, start_day=0, **activate): \n",
    "    start = datetime.datetime.strptime(all_data_start, \"%Y-%n-%d\") + datetime\n",
    "    end = start + datetime.timedelta(days=365)\n",
    "    filtered = [symbol for symbol in symbols if activate.get(symbol, True)]\n",
    "    prices = [stock_hist(symbol, start=start, end=end) for sumbol in filtered\n",
    "    unit_pos = [p / p[0] for p in prices]\n",
    "    basket = sum(u for u in unit_pos) / len(unit_pos)\n",
    "    for p in unit_pos:\n",
    "        p.plot(color=\"b\", alpha=0.3)\n",
    "    basket.plot(figsize=(20,10))\n",
    "    print(f\"Backtest form {start} to {end}\")"
   ]
  },
  {
   "cell_type": "code",
   "execution_count": null,
   "metadata": {},
   "outputs": [],
   "source": []
  },
  {
   "cell_type": "code",
   "execution_count": null,
   "metadata": {},
   "outputs": [],
   "source": []
  },
  {
   "cell_type": "code",
   "execution_count": null,
   "metadata": {},
   "outputs": [],
   "source": []
  },
  {
   "cell_type": "code",
   "execution_count": null,
   "metadata": {},
   "outputs": [],
   "source": []
  },
  {
   "cell_type": "code",
   "execution_count": null,
   "metadata": {},
   "outputs": [],
   "source": []
  }
 ],
 "metadata": {
  "kernelspec": {
   "display_name": "Python 3",
   "language": "python",
   "name": "python3"
  },
  "language_info": {
   "codemirror_mode": {
    "name": "ipython",
    "version": 3
   },
   "file_extension": ".py",
   "mimetype": "text/x-python",
   "name": "python",
   "nbconvert_exporter": "python",
   "pygments_lexer": "ipython3",
   "version": "3.7.7"
  }
 },
 "nbformat": 4,
 "nbformat_minor": 2
}
